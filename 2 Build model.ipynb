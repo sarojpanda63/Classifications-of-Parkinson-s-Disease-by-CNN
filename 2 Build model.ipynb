{
 "cells": [
  {
   "cell_type": "code",
   "execution_count": 1,
   "metadata": {},
   "outputs": [
    {
     "name": "stdout",
     "output_type": "stream",
     "text": [
      "(125, 32, 30, 22, 1)\n",
      "(125, 3)\n"
     ]
    }
   ],
   "source": [
    "import numpy as np\n",
    "X = np.load('X.npy')\n",
    "Y = np.load('Y.npy')\n",
    "print(X.shape)\n",
    "print(Y.shape)"
   ]
  },
  {
   "cell_type": "code",
   "execution_count": 2,
   "metadata": {},
   "outputs": [],
   "source": [
    "from sklearn.model_selection import train_test_split\n",
    "Xtrn,Xtst,Ytrn,Ytst = train_test_split(X,Y,train_size = 0.9, random_state=10)"
   ]
  },
  {
   "cell_type": "code",
   "execution_count": 3,
   "metadata": {},
   "outputs": [
    {
     "name": "stdout",
     "output_type": "stream",
     "text": [
      "(112, 32, 30, 22, 1)\n",
      "(13, 32, 30, 22, 1)\n",
      "(112, 3)\n",
      "(13, 3)\n"
     ]
    }
   ],
   "source": [
    "print(Xtrn.shape)\n",
    "print(Xtst.shape)\n",
    "print(Ytrn.shape)\n",
    "print(Ytst.shape)"
   ]
  },
  {
   "cell_type": "code",
   "execution_count": 4,
   "metadata": {},
   "outputs": [],
   "source": [
    "from keras.models import Sequential\n",
    "from keras.layers import Conv2D, Conv3D, MaxPooling3D, AveragePooling3D\n",
    "from keras.layers import Activation, Dropout, Flatten, Dense"
   ]
  },
  {
   "cell_type": "code",
   "execution_count": 11,
   "metadata": {},
   "outputs": [
    {
     "name": "stdout",
     "output_type": "stream",
     "text": [
      "Model: \"sequential_1\"\n",
      "_________________________________________________________________\n",
      "Layer (type)                 Output Shape              Param #   \n",
      "=================================================================\n",
      "conv3d_3 (Conv3D)            (None, 28, 26, 18, 10)    1260      \n",
      "_________________________________________________________________\n",
      "average_pooling3d (AveragePo (None, 14, 13, 9, 10)     0         \n",
      "_________________________________________________________________\n",
      "conv3d_4 (Conv3D)            (None, 12, 11, 7, 6)      1626      \n",
      "_________________________________________________________________\n",
      "average_pooling3d_1 (Average (None, 6, 5, 3, 6)        0         \n",
      "_________________________________________________________________\n",
      "conv3d_5 (Conv3D)            (None, 5, 4, 2, 3)        147       \n",
      "_________________________________________________________________\n",
      "flatten_1 (Flatten)          (None, 120)               0         \n",
      "_________________________________________________________________\n",
      "dense_1 (Dense)              (None, 3)                 363       \n",
      "=================================================================\n",
      "Total params: 3,396\n",
      "Trainable params: 3,396\n",
      "Non-trainable params: 0\n",
      "_________________________________________________________________\n"
     ]
    }
   ],
   "source": [
    "model = Sequential()\n",
    "model.add(Conv3D(10, kernel_size = (5,5,5), strides = (1,1,1), activation='tanh',input_shape=(32,30,22,1), padding ='valid'))\n",
    "model.add(AveragePooling3D(pool_size = (2,2,2), strides = (2,2,2), padding = 'valid'))\n",
    "model.add(Conv3D(6, kernel_size = (3,3,3), strides = (1,1,1), activation='relu', padding = 'valid'))\n",
    "model.add(AveragePooling3D(pool_size = (2,2,2), strides = (2,2,2), padding = 'valid'))\n",
    "model.add(Conv3D(3, kernel_size = (2,2,2), strides = (1,1,1), activation='relu', padding = 'valid'))\n",
    "model.add(Flatten())\n",
    "model.add(Dense(3,activation='softmax'))\n",
    "model.summary()"
   ]
  },
  {
   "cell_type": "code",
   "execution_count": 6,
   "metadata": {},
   "outputs": [
    {
     "name": "stdout",
     "output_type": "stream",
     "text": [
      "Epoch 1/10\n",
      "1/1 [==============================] - 31s 31s/step - loss: 1.1890 - accuracy: 0.3571\n",
      "Epoch 2/10\n",
      "1/1 [==============================] - 8s 8s/step - loss: 0.8563 - accuracy: 0.6607\n",
      "Epoch 3/10\n",
      "1/1 [==============================] - 6s 6s/step - loss: 0.7534 - accuracy: 0.6429\n",
      "Epoch 4/10\n",
      "1/1 [==============================] - 5s 5s/step - loss: 0.6978 - accuracy: 0.7232\n",
      "Epoch 5/10\n",
      "1/1 [==============================] - 6s 6s/step - loss: 0.6762 - accuracy: 0.6250\n",
      "Epoch 6/10\n",
      "1/1 [==============================] - 6s 6s/step - loss: 0.6292 - accuracy: 0.6964\n",
      "Epoch 7/10\n",
      "1/1 [==============================] - 5s 5s/step - loss: 0.5858 - accuracy: 0.6964\n",
      "Epoch 8/10\n",
      "1/1 [==============================] - 6s 6s/step - loss: 0.5885 - accuracy: 0.7411\n",
      "Epoch 9/10\n",
      "1/1 [==============================] - 5s 5s/step - loss: 0.4802 - accuracy: 0.7857\n",
      "Epoch 10/10\n",
      "1/1 [==============================] - 6s 6s/step - loss: 0.4643 - accuracy: 0.8304\n"
     ]
    }
   ],
   "source": [
    "model.compile(optimizer = 'adam', loss = 'categorical_crossentropy', metrics=['accuracy'])\n",
    "history = model.fit(x=Xtrn, y=Ytrn, batch_size=112, epochs=10)"
   ]
  },
  {
   "cell_type": "code",
   "execution_count": 7,
   "metadata": {},
   "outputs": [
    {
     "name": "stdout",
     "output_type": "stream",
     "text": [
      "1/1 [==============================] - 1s 1s/step - loss: 1.0028 - accuracy: 0.6154\n",
      "[1.0027599334716797, 0.6153846383094788]\n"
     ]
    }
   ],
   "source": [
    "score = model.evaluate(Xtst,Ytst)\n",
    "print(score)"
   ]
  },
  {
   "cell_type": "code",
   "execution_count": 8,
   "metadata": {},
   "outputs": [
    {
     "name": "stderr",
     "output_type": "stream",
     "text": [
      "C:\\Users\\SAROJ\\anaconda3\\lib\\site-packages\\keras\\engine\\sequential.py:450: UserWarning: `model.predict_classes()` is deprecated and will be removed after 2021-01-01. Please use instead:* `np.argmax(model.predict(x), axis=-1)`,   if your model does multi-class classification   (e.g. if it uses a `softmax` last-layer activation).* `(model.predict(x) > 0.5).astype(\"int32\")`,   if your model does binary classification   (e.g. if it uses a `sigmoid` last-layer activation).\n",
      "  warnings.warn('`model.predict_classes()` is deprecated and '\n"
     ]
    }
   ],
   "source": [
    "Ypred = model.predict_classes(Xtst)"
   ]
  },
  {
   "cell_type": "code",
   "execution_count": 9,
   "metadata": {},
   "outputs": [
    {
     "data": {
      "text/plain": [
       "array([0, 0, 0, 0, 0, 0, 0, 2, 0, 0, 0, 0, 0], dtype=int64)"
      ]
     },
     "execution_count": 9,
     "metadata": {},
     "output_type": "execute_result"
    }
   ],
   "source": [
    "Ypred"
   ]
  },
  {
   "cell_type": "code",
   "execution_count": 10,
   "metadata": {},
   "outputs": [
    {
     "data": {
      "text/plain": [
       "[0, 0, 0, 0, 2, 2, 0, 2, 2, 0, 0, 1, 2]"
      ]
     },
     "execution_count": 10,
     "metadata": {},
     "output_type": "execute_result"
    }
   ],
   "source": [
    "Ytst = [np.where(r==1)[0][0] for r in Ytst]\n",
    "Ytst"
   ]
  }
 ],
 "metadata": {
  "kernelspec": {
   "display_name": "Python 3",
   "language": "python",
   "name": "python3"
  },
  "language_info": {
   "codemirror_mode": {
    "name": "ipython",
    "version": 3
   },
   "file_extension": ".py",
   "mimetype": "text/x-python",
   "name": "python",
   "nbconvert_exporter": "python",
   "pygments_lexer": "ipython3",
   "version": "3.8.5"
  }
 },
 "nbformat": 4,
 "nbformat_minor": 4
}
