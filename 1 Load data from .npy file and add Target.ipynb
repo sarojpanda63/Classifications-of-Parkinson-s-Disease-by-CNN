{
 "cells": [
  {
   "cell_type": "code",
   "execution_count": 1,
   "metadata": {},
   "outputs": [],
   "source": [
    "import numpy as np"
   ]
  },
  {
   "cell_type": "code",
   "execution_count": 5,
   "metadata": {},
   "outputs": [],
   "source": [
    "HC = np.load('HC_FULL.npy')\n",
    "PD = np.load('PD_FULL.npy')\n",
    "SW = np.load('SWEDD_FULL.npy')"
   ]
  },
  {
   "cell_type": "code",
   "execution_count": 6,
   "metadata": {},
   "outputs": [
    {
     "name": "stdout",
     "output_type": "stream",
     "text": [
      "(22, 30, 32, 68)\n",
      "(22, 30, 32, 9)\n",
      "(22, 30, 32, 48)\n"
     ]
    }
   ],
   "source": [
    "print(HC.shape)\n",
    "print(PD.shape)\n",
    "print(SW.shape)"
   ]
  },
  {
   "cell_type": "code",
   "execution_count": 8,
   "metadata": {},
   "outputs": [
    {
     "name": "stdout",
     "output_type": "stream",
     "text": [
      "(125, 32, 30, 22, 1)\n",
      "(125, 3)\n"
     ]
    }
   ],
   "source": [
    "X = np.vstack((HC.T,PD.T,SW.T))\n",
    "X = X.reshape(125,32,30,22,1)\n",
    "print(X.shape)\n",
    "HCy =np.zeros(68)\n",
    "PDy =np.zeros(9)+1\n",
    "SWy =np.zeros(48)+2 \n",
    "Y = np.concatenate((HCy,PDy,SWy))\n",
    "Y = Y. astype(int)\n",
    "# print(Y[66:85])\n",
    "b = np.zeros((Y.size, Y.max()+1))\n",
    "b[np.arange(Y.size),Y] = 1\n",
    "Y = b\n",
    "# print(Y[66:85])\n",
    "print(Y.shape)"
   ]
  },
  {
   "cell_type": "code",
   "execution_count": 5,
   "metadata": {},
   "outputs": [],
   "source": [
    "np.save('X.npy',X)\n",
    "np.save('Y.npy',Y)"
   ]
  },
  {
   "cell_type": "code",
   "execution_count": null,
   "metadata": {},
   "outputs": [],
   "source": []
  }
 ],
 "metadata": {
  "kernelspec": {
   "display_name": "Python 3",
   "language": "python",
   "name": "python3"
  },
  "language_info": {
   "codemirror_mode": {
    "name": "ipython",
    "version": 3
   },
   "file_extension": ".py",
   "mimetype": "text/x-python",
   "name": "python",
   "nbconvert_exporter": "python",
   "pygments_lexer": "ipython3",
   "version": "3.8.5"
  }
 },
 "nbformat": 4,
 "nbformat_minor": 4
}
