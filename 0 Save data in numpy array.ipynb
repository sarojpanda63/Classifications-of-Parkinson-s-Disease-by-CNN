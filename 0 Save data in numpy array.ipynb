{
 "cells": [
  {
   "cell_type": "code",
   "execution_count": 1,
   "metadata": {},
   "outputs": [],
   "source": [
    "# !pip install nibabel\n",
    "import nibabel as nib\n",
    "# import skimage.io as io\n",
    "import numpy as np\n",
    "# import matplotlib.pyplot as plt\n",
    "# from nilearn import plotting"
   ]
  },
  {
   "cell_type": "code",
   "execution_count": null,
   "metadata": {},
   "outputs": [
    {
     "name": "stderr",
     "output_type": "stream",
     "text": [
      "<ipython-input-2-ef316ffd2c8b>:15: DeprecationWarning: The truth value of an empty array is ambiguous. Returning False, but in future this will result in an error. Use `array.size > 0` to check that an array is not empty.\n",
      "  if a == []:\n",
      "<ipython-input-2-ef316ffd2c8b>:15: DeprecationWarning: elementwise comparison failed; this will raise an error in the future.\n",
      "  if a == []:\n"
     ]
    }
   ],
   "source": [
    "import os\n",
    "# assign directory\n",
    "directory = 'HC_FULL'\n",
    "a = [] \n",
    "# assign shape\n",
    "target_shape = (22,30,32,1)\n",
    "# iterate over files in\n",
    "# that directory\n",
    "for filename in os.scandir(directory):\n",
    "    if filename.is_file():\n",
    "#         print(str(filename.path))\n",
    "        img=nib.load(str(filename.path))\n",
    "        img_arr=img.get_fdata()\n",
    "        x = np.resize(img_arr,target_shape)\n",
    "        if a == []:\n",
    "            a = x\n",
    "        else:\n",
    "            a = np.vstack((a.T,x.T))\n",
    "            a = a.T\n",
    "np.save(directory+'.npy',a)"
   ]
  },
  {
   "cell_type": "code",
   "execution_count": null,
   "metadata": {},
   "outputs": [],
   "source": [
    "import os\n",
    "# assign directory\n",
    "directory = 'PD_FULL'\n",
    "a = [] \n",
    "# assign shape\n",
    "target_shape = (22,30,32,1)\n",
    "# iterate over files in\n",
    "# that directory\n",
    "for filename in os.scandir(directory):\n",
    "    if filename.is_file():\n",
    "#         print(str(filename.path))\n",
    "        img=nib.load(str(filename.path))\n",
    "        img_arr=img.get_fdata()\n",
    "        x = np.resize(img_arr,target_shape)\n",
    "        if a == []:\n",
    "            a = x\n",
    "        else:\n",
    "            a = np.vstack((a.T,x.T))\n",
    "            a = a.T\n",
    "np.save(directory+'.npy',a)"
   ]
  },
  {
   "cell_type": "code",
   "execution_count": null,
   "metadata": {},
   "outputs": [],
   "source": [
    "import os\n",
    "# assign directory\n",
    "directory = 'SWEDD_FULL'\n",
    "a = [] \n",
    "# assign shape\n",
    "target_shape = (22,30,32,1)\n",
    "# iterate over files in\n",
    "# that directory\n",
    "for filename in os.scandir(directory):\n",
    "    if filename.is_file():\n",
    "#         print(str(filename.path))\n",
    "        img=nib.load(str(filename.path))\n",
    "        img_arr=img.get_fdata()\n",
    "        x = np.resize(img_arr,target_shape)\n",
    "        if a == []:\n",
    "            a = x\n",
    "        else:\n",
    "            a = np.vstack((a.T,x.T))\n",
    "            a = a.T\n",
    "np.save(directory+'.npy',a)"
   ]
  },
  {
   "cell_type": "code",
   "execution_count": null,
   "metadata": {},
   "outputs": [],
   "source": []
  }
 ],
 "metadata": {
  "kernelspec": {
   "display_name": "Python 3",
   "language": "python",
   "name": "python3"
  },
  "language_info": {
   "codemirror_mode": {
    "name": "ipython",
    "version": 3
   },
   "file_extension": ".py",
   "mimetype": "text/x-python",
   "name": "python",
   "nbconvert_exporter": "python",
   "pygments_lexer": "ipython3",
   "version": "3.8.5"
  }
 },
 "nbformat": 4,
 "nbformat_minor": 4
}
